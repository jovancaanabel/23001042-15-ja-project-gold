{
  "cells": [
    {
      "cell_type": "markdown",
      "metadata": {
        "id": "c-MYzH5LdXXk"
      },
      "source": [
        "# Import Data\n",
        "jika pakai google colab"
      ]
    },
    {
      "cell_type": "code",
      "execution_count": null,
      "metadata": {
        "colab": {
          "base_uri": "https://localhost:8080/",
          "height": 73,
          "resources": {
            "http://localhost:8080/nbextensions/google.colab/files.js": {
              "data": "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",
              "headers": [
                [
                  "content-type",
                  "application/javascript"
                ]
              ],
              "ok": true,
              "status": 200,
              "status_text": ""
            }
          }
        },
        "id": "qwkxC7PydZDZ",
        "outputId": "68a69409-5564-4717-a50e-be73cff901d3"
      },
      "outputs": [],
      "source": [
        "# from google.colab import files\n",
        "# uploaded = files.upload()"
      ]
    },
    {
      "cell_type": "code",
      "execution_count": null,
      "metadata": {
        "id": "Nu__lr6PdaK7"
      },
      "outputs": [],
      "source": [
        "# import io\n",
        "# import pandas as pd\n",
        "# df = pd.read_csv(io.BytesIO(uploaded['human_resources.csv']))"
      ]
    },
    {
      "cell_type": "code",
      "execution_count": null,
      "metadata": {},
      "outputs": [],
      "source": [
        "import pandas as pd\n",
        "df = pd.read_csv('Exercise Chapter 5 Topic 2_ Dataset About Human Resources.csv')"
      ]
    },
    {
      "cell_type": "code",
      "execution_count": null,
      "metadata": {
        "colab": {
          "base_uri": "https://localhost:8080/"
        },
        "id": "FDeOeN420MGx",
        "outputId": "ded5f380-2517-4584-aba7-27387d0c2196"
      },
      "outputs": [],
      "source": [
        "df.info()"
      ]
    },
    {
      "cell_type": "code",
      "execution_count": null,
      "metadata": {
        "colab": {
          "base_uri": "https://localhost:8080/",
          "height": 250
        },
        "id": "Aaf1GCNp0NZt",
        "outputId": "96276dae-f4a7-45ed-f28b-9d9f65183224"
      },
      "outputs": [],
      "source": [
        "df.head()"
      ]
    },
    {
      "cell_type": "markdown",
      "metadata": {
        "id": "2mfhS-RN0FuM"
      },
      "source": [
        "# Statistika Deskriptif"
      ]
    },
    {
      "cell_type": "markdown",
      "metadata": {
        "id": "Uu0nUo7Z0JJm"
      },
      "source": [
        "## Mean "
      ]
    },
    {
      "cell_type": "code",
      "execution_count": null,
      "metadata": {
        "colab": {
          "base_uri": "https://localhost:8080/"
        },
        "id": "CPpjNvlviklL",
        "outputId": "81d415f2-c569-49e3-f0f2-f537132d85c5"
      },
      "outputs": [],
      "source": [
        "df_monthly_hours = df['average_montly_hours']\n",
        "df_monthly_hours.mean()"
      ]
    },
    {
      "cell_type": "markdown",
      "metadata": {
        "id": "BhSiitfO1D3K"
      },
      "source": [
        "## Median"
      ]
    },
    {
      "cell_type": "code",
      "execution_count": null,
      "metadata": {
        "colab": {
          "base_uri": "https://localhost:8080/"
        },
        "id": "ubuthbXczWlm",
        "outputId": "12d4338e-7cd6-4c4a-f9d4-dfe33032fc6b"
      },
      "outputs": [],
      "source": [
        "df_monthly_hours = df['average_montly_hours']\n",
        "df_monthly_hours.median()"
      ]
    },
    {
      "cell_type": "markdown",
      "metadata": {
        "id": "C375mz2V1Gu8"
      },
      "source": [
        "## Mode"
      ]
    },
    {
      "cell_type": "code",
      "execution_count": null,
      "metadata": {
        "colab": {
          "base_uri": "https://localhost:8080/"
        },
        "id": "oQSxYDexzXxu",
        "outputId": "df26b997-580b-4373-c6a7-620257340298"
      },
      "outputs": [],
      "source": [
        "df_monthly_hours = df['average_montly_hours']\n",
        "df_monthly_hours.mode()"
      ]
    },
    {
      "cell_type": "code",
      "execution_count": null,
      "metadata": {
        "colab": {
          "base_uri": "https://localhost:8080/"
        },
        "id": "_d0ghncs1JDQ",
        "outputId": "d0271fc0-f88e-4359-f81c-d7d34de4c4bd"
      },
      "outputs": [],
      "source": [
        "df_monthly_hours.value_counts()"
      ]
    },
    {
      "cell_type": "markdown",
      "metadata": {
        "id": "NlJ2Ei2K-P7c"
      },
      "source": [
        "## Range"
      ]
    },
    {
      "cell_type": "code",
      "execution_count": null,
      "metadata": {
        "colab": {
          "base_uri": "https://localhost:8080/"
        },
        "id": "dznumtB_2_rI",
        "outputId": "01d592c5-14ad-4c13-c92a-65da8576c66c"
      },
      "outputs": [],
      "source": [
        "df_monthly_hours = df['last_evaluation']\n",
        "df_monthly_hours.max() - df_monthly_hours.min()"
      ]
    },
    {
      "cell_type": "markdown",
      "metadata": {
        "id": "Ma-FYNzI-v83"
      },
      "source": [
        "## Variance and Standard Deviation"
      ]
    },
    {
      "cell_type": "code",
      "execution_count": null,
      "metadata": {
        "id": "DfejFakX-XCt"
      },
      "outputs": [],
      "source": [
        "df_monthly_hours = df['average_montly_hours']"
      ]
    },
    {
      "cell_type": "code",
      "execution_count": null,
      "metadata": {
        "colab": {
          "base_uri": "https://localhost:8080/"
        },
        "id": "jwDT7fcQ-zGO",
        "outputId": "56df8386-1bfe-4d8a-c754-355168fd8a1d"
      },
      "outputs": [],
      "source": [
        "# Variance\n",
        "df_monthly_hours.var()"
      ]
    },
    {
      "cell_type": "code",
      "execution_count": null,
      "metadata": {
        "colab": {
          "base_uri": "https://localhost:8080/"
        },
        "id": "cOVfs-4R-2wn",
        "outputId": "2e33e26d-b24f-4d27-dfdf-2543d11cbca7"
      },
      "outputs": [],
      "source": [
        "# Standard Deviation\n",
        "df_monthly_hours.std()"
      ]
    },
    {
      "cell_type": "markdown",
      "metadata": {
        "id": "WnJr0WFPBvzt"
      },
      "source": [
        "#Interquartile"
      ]
    },
    {
      "cell_type": "code",
      "execution_count": null,
      "metadata": {
        "colab": {
          "base_uri": "https://localhost:8080/"
        },
        "id": "UOLlOSng-4w9",
        "outputId": "0bcf5a6f-3cae-47ab-8d2e-4d2657ce149c"
      },
      "outputs": [],
      "source": [
        "df_monthly_hours.quantile(0.75) - df_monthly_hours.quantile(0.25)"
      ]
    },
    {
      "cell_type": "markdown",
      "metadata": {
        "id": "U6zlgEX2CuL7"
      },
      "source": [
        "## Outliers"
      ]
    },
    {
      "cell_type": "code",
      "execution_count": null,
      "metadata": {
        "id": "_Gflrg6JB0N8"
      },
      "outputs": [],
      "source": [
        "def get_outliers(df):\n",
        "\n",
        "    # Menghitung 25th dan 75th percentile\n",
        "    p75 = df.quantile(0.75)\n",
        "    p25 = df.quantile(0.25)\n",
        "    # Menghitung IQR dengan selisih 25th dan 75th percentile\n",
        "    iqr = p75 - p25\n",
        "    \n",
        "    # \"Minimum non-outlier value\": 25th percentile - 1.5 * IQR (Interquartile range)\n",
        "    min_val = p25 - 1.5*iqr\n",
        "    # \"Maximum non-outlier value\": 75th percentile + 1.5 * IQR (Interquartile range)\n",
        "    max_val = p75 + 1.5*iqr\n",
        "\n",
        "    # Apapun dibawah minimum atau diatas maximum, disebut sebagai outlier\n",
        "    outliers = df[(df < min_val) | (df > max_val)]\n",
        "    return outliers"
      ]
    },
    {
      "cell_type": "code",
      "execution_count": null,
      "metadata": {
        "colab": {
          "base_uri": "https://localhost:8080/"
        },
        "id": "mIldNcLBDTfB",
        "outputId": "96287d47-31c7-42a2-9f9b-50121ab58b24"
      },
      "outputs": [],
      "source": [
        "outlier = get_outliers(df_monthly_hours)\n",
        "print(outlier)"
      ]
    },
    {
      "cell_type": "markdown",
      "metadata": {
        "id": "EamlzmElKmRK"
      },
      "source": [
        "# Distribusi Data"
      ]
    },
    {
      "cell_type": "code",
      "execution_count": null,
      "metadata": {
        "id": "E0X4zdG4Kn0J"
      },
      "outputs": [],
      "source": [
        "import matplotlib\n",
        "import matplotlib.pyplot as plt"
      ]
    },
    {
      "cell_type": "code",
      "execution_count": null,
      "metadata": {
        "colab": {
          "base_uri": "https://localhost:8080/",
          "height": 334
        },
        "id": "_A7sTAtLKrUY",
        "outputId": "4603499c-56ac-4bd2-fa6a-d7783b6d4a20"
      },
      "outputs": [],
      "source": [
        "plt.hist(df['time_spend_company'])"
      ]
    },
    {
      "cell_type": "code",
      "execution_count": null,
      "metadata": {
        "colab": {
          "base_uri": "https://localhost:8080/",
          "height": 265
        },
        "id": "eV1KPOKCKtcj",
        "outputId": "c0a9d1f5-cde5-401f-ac96-f30a7a5ed4c8"
      },
      "outputs": [],
      "source": [
        "plt.hist(df['satisfaction_level'])\n",
        "plt.show()"
      ]
    },
    {
      "cell_type": "markdown",
      "metadata": {
        "id": "41IRSpDwRG1Z"
      },
      "source": [
        "# Korelasi"
      ]
    },
    {
      "cell_type": "code",
      "execution_count": null,
      "metadata": {
        "id": "nn-FlMsFRIrn"
      },
      "outputs": [],
      "source": [
        "import seaborn as sns"
      ]
    },
    {
      "cell_type": "code",
      "execution_count": null,
      "metadata": {
        "colab": {
          "base_uri": "https://localhost:8080/",
          "height": 206
        },
        "id": "S1d0WiiGRH0C",
        "outputId": "6563b523-39a7-4235-ad19-a4db260300c7"
      },
      "outputs": [],
      "source": [
        "from sklearn import datasets\n",
        "iris = datasets.load_iris()\n",
        "iris = pd.DataFrame(data=iris.data, columns=iris.feature_names)\n",
        "iris.head()"
      ]
    },
    {
      "cell_type": "code",
      "execution_count": null,
      "metadata": {
        "colab": {
          "base_uri": "https://localhost:8080/",
          "height": 175
        },
        "id": "dDkNHEHsROjj",
        "outputId": "1a52cd9f-f4f2-4b66-f6b0-fe1b25389d25"
      },
      "outputs": [],
      "source": [
        "iris.corr()"
      ]
    },
    {
      "cell_type": "markdown",
      "metadata": {
        "id": "k2PQajtJTMiT"
      },
      "source": [
        "## Heatmap"
      ]
    },
    {
      "cell_type": "code",
      "execution_count": null,
      "metadata": {
        "colab": {
          "base_uri": "https://localhost:8080/",
          "height": 487
        },
        "id": "Zq8_sRxfRlUK",
        "outputId": "2d4b0fa5-656a-4291-bd90-375c92e95947"
      },
      "outputs": [],
      "source": [
        "plt.figure(figsize=(10,8))\n",
        "sns.heatmap(iris.corr(),annot=True)\n",
        "plt.show()"
      ]
    },
    {
      "cell_type": "markdown",
      "metadata": {
        "id": "JYS6y5cWTOnw"
      },
      "source": [
        "## Regplot\n",
        "membuat scatter plot bersamaan dengan garis regresi"
      ]
    },
    {
      "cell_type": "code",
      "execution_count": null,
      "metadata": {
        "colab": {
          "base_uri": "https://localhost:8080/",
          "height": 442
        },
        "id": "Z4-4NOLaSTVR",
        "outputId": "e73e6326-38c2-4a7f-fdc9-50656b2529af"
      },
      "outputs": [],
      "source": [
        "plt.figure(figsize = (10,7))\n",
        "sns.regplot(x='sepal width (cm)',y='sepal length (cm)', data = iris)\n",
        "plt.show()"
      ]
    },
    {
      "cell_type": "code",
      "execution_count": null,
      "metadata": {
        "colab": {
          "base_uri": "https://localhost:8080/",
          "height": 442
        },
        "id": "NCbOK4QASuc2",
        "outputId": "8f141bd3-4a57-44fe-9d49-e5c635501323"
      },
      "outputs": [],
      "source": [
        "plt.figure(figsize = (10,7))\n",
        "sns.regplot(x='petal width (cm)',y='petal length (cm)',data = iris)\n",
        "plt.show()"
      ]
    },
    {
      "cell_type": "markdown",
      "metadata": {},
      "source": [
        "## tambahan informasi\n",
        "1. Titik-titik di atas garis regresi menjelaskan nilai aktual dari variabel dependen (y) melebihi nilai yang diprediksi oleh garis regresi.\n",
        "\n",
        "2. Titik-titik di bawah garis regresi menjelaskan nilai aktual dari variabel dependen (y) lebih rendah dari nilai yang diprediksi oleh garis regresi.\n",
        "\n",
        "3. Jarak vertikal antara titik-titik dan garis regresi menjelaskan tentang seberapa besar deviasi dari prediksi model. Semakin besar jaraknya, semakin besar deviasinya.\n",
        "\n",
        "4. Ketebalan garis regresi menjelaskan indikasi seberapa baik model sesuai dengan data (ketidakpsatian). Garis regresi yang lebih tebal menjelaskan tingkat ketidakpastian yang lebih tinggi."
      ]
    },
    {
      "cell_type": "markdown",
      "metadata": {
        "id": "3Ob8hZBoTQuY"
      },
      "source": [
        "## Heatmap for HR Analytics"
      ]
    },
    {
      "cell_type": "code",
      "execution_count": null,
      "metadata": {
        "colab": {
          "base_uri": "https://localhost:8080/",
          "height": 590
        },
        "id": "3ih_zGXjS-zk",
        "outputId": "cdb433d2-202d-4169-9d6c-81acbf278ca2"
      },
      "outputs": [],
      "source": [
        "plt.figure(figsize=(10,8))\n",
        "sns.heatmap(df.corr(),annot=True)\n",
        "plt.show()"
      ]
    },
    {
      "cell_type": "code",
      "execution_count": null,
      "metadata": {},
      "outputs": [],
      "source": [
        "# cara 1: drop nilai non-numerik\n",
        "numeric_columns = df.select_dtypes(include=['float64', 'int64']).columns\n",
        "correlation_matrix = df[numeric_columns].corr()\n",
        "\n",
        "# buat heatmap\n",
        "plt.figure(figsize=(10, 8))\n",
        "sns.heatmap(correlation_matrix, annot=True)\n",
        "plt.show()"
      ]
    },
    {
      "cell_type": "markdown",
      "metadata": {},
      "source": [
        "cara 2: menggunakan one-hot-encoder / label encoder"
      ]
    },
    {
      "cell_type": "code",
      "execution_count": null,
      "metadata": {},
      "outputs": [],
      "source": [
        "# One-hot-encoder untuk kolom 'sales' dan 'salary'\n",
        "df_encoded = pd.get_dummies(df, columns=['sales', 'salary'], drop_first=True)\n",
        "\n",
        "# Membuat heatmap korelasi\n",
        "plt.figure(figsize=(12, 10))\n",
        "sns.heatmap(df_encoded.corr(), annot=True)\n",
        "plt.show()"
      ]
    },
    {
      "cell_type": "code",
      "execution_count": null,
      "metadata": {},
      "outputs": [],
      "source": [
        "# Label Encoder untuk 'sales' dan 'salary'\n",
        "from sklearn.preprocessing import LabelEncoder\n",
        "\n",
        "# Mendefinisikan kolom-kolom yang perlu dienkoding\n",
        "categorical_columns = ['sales', 'salary']\n",
        "\n",
        "# Menggunakan LabelEncoder untuk kolom kategorikal\n",
        "label_encoder = LabelEncoder()\n",
        "df[categorical_columns] = df[categorical_columns].apply(label_encoder.fit_transform)\n",
        "\n",
        "# Membuat heatmap korelasi\n",
        "plt.figure(figsize=(12, 10))\n",
        "sns.heatmap(df.corr(), annot=True)\n",
        "plt.show()"
      ]
    },
    {
      "cell_type": "markdown",
      "metadata": {},
      "source": [
        "## kesimpulan\n",
        "\n",
        "1. Label Encoding\n",
        "Kapan digunakan: Label Encoding lebih sesuai untuk variabel kategori yang memiliki tingkatan ordinal, di mana urutan atau peringkat memiliki makna.\n",
        "\n",
        "2. One-Hot Encoding:\n",
        "Kapan digunakan: One-Hot Encoding lebih sesuai untuk variabel kategori yang bersifat nominal, di mana tidak ada urutan atau peringkat tertentu antar kategori.\n",
        "\n",
        "3. Multicollinearity:\n",
        "- Label Encoding: Bisa mengakibatkan masalah multicollinearity jika digunakan pada variabel kategori dengan lebih dari dua kategori, karena model mengartikan urutan numerik sebagai tingkatan.\n",
        "- One-Hot Encoding: Menghindari masalah multicollinearity karena setiap kategori direpresentasikan sebagai variabel biner terpisah. cuma variable / fitur data menjadi lebih banyak. perlu penambahan algoritma untuk di reduksi (reduction dimentionality)\n",
        "\n",
        "4. Implementasi di kerjaan terhadap model Machine Learning\n",
        "- Label Encoding: Beberapa model, seperti random forest, bisa menangani Label Encoding dengan baik. Tapi, beberapa model yang menggunakan jarak (seperti regresi linear, K-Nearest Neighbors) dapat terpengaruh oleh urutan numerik.\n",
        "- One-Hot Encoding: Lebih umum dipakai dan sesuai untuk sebagian besar model machine learning, terutama ketika tidak ada urutan khusus yang harus diwakili (ordinal)."
      ]
    },
    {
      "cell_type": "markdown",
      "metadata": {},
      "source": [
        "Untuk menangani Reduction Dimentionality pakai metode Feature Selection:\n",
        "1. Principal Compnent Analysis (PCA)\n",
        "2. Linear Discriminant Analysis (LDA)\n",
        "3. Recursive Feature Elimination (RFE)\n",
        "\n",
        "list metode tersebut untuk mendapatkan Feature Importance"
      ]
    }
  ],
  "metadata": {
    "colab": {
      "provenance": []
    },
    "kernelspec": {
      "display_name": "Python 3",
      "name": "python3"
    },
    "language_info": {
      "codemirror_mode": {
        "name": "ipython",
        "version": 3
      },
      "file_extension": ".py",
      "mimetype": "text/x-python",
      "name": "python",
      "nbconvert_exporter": "python",
      "pygments_lexer": "ipython3",
      "version": "3.11.4"
    }
  },
  "nbformat": 4,
  "nbformat_minor": 0
}
